{
 "cells": [
  {
   "cell_type": "code",
   "execution_count": 1,
   "id": "fb8e3afd-68cb-4852-a2c9-6b832b7e105a",
   "metadata": {},
   "outputs": [
    {
     "name": "stdout",
     "output_type": "stream",
     "text": [
      "RajPatel@gmail.com\n",
      "PriyaSharma@gmail.com\n",
      "AmitKumar@gmail.com\n",
      "NehaSingh@gmail.com\n"
     ]
    }
   ],
   "source": [
    "#answer1.\n",
    "\n",
    "indian_employees = [[\"Raj\", \"Patel\"], [\"Priya\", \"Sharma\"], [\"Amit\", \"Kumar\"], [\"Neha\", \"Singh\"]]\n",
    "\n",
    "\n",
    "for employee in indian_employees:\n",
    "    first_name = employee[0]\n",
    "    last_name = employee[1]\n",
    "    email = f\"{first_name}{last_name}@gmail.com\"\n",
    "    print(email)\n"
   ]
  },
  {
   "cell_type": "code",
   "execution_count": 3,
   "id": "b4f952ee-8bbc-4bb7-ae9d-6c0ac2110005",
   "metadata": {},
   "outputs": [
    {
     "name": "stdout",
     "output_type": "stream",
     "text": [
      "1\n",
      "2\n",
      "3\n",
      "4\n",
      "5\n",
      "6\n",
      "7\n",
      "8\n",
      "9\n",
      "10\n"
     ]
    }
   ],
   "source": [
    "#answer1.\n",
    "#task2\n",
    "for i in range(1, 11):\n",
    "    print(i)\n",
    "\n"
   ]
  },
  {
   "cell_type": "code",
   "execution_count": 5,
   "id": "13a7f082-ac1e-42a5-a86e-fbcb9a6d5ea8",
   "metadata": {},
   "outputs": [
    {
     "name": "stdout",
     "output_type": "stream",
     "text": [
      "Sum of numbers from 1 to 100: 5050\n"
     ]
    }
   ],
   "source": [
    "#answer2.\n",
    "total = 0\n",
    "for i in range(1, 101):\n",
    "    total += i\n",
    "print(\"Sum of numbers from 1 to 100:\", total)\n"
   ]
  },
  {
   "cell_type": "code",
   "execution_count": 7,
   "id": "70300844-b6ea-4e62-a992-312158e7b982",
   "metadata": {},
   "outputs": [
    {
     "name": "stdout",
     "output_type": "stream",
     "text": [
      "5 x 1 = 5\n",
      "5 x 2 = 10\n",
      "5 x 3 = 15\n",
      "5 x 4 = 20\n",
      "5 x 5 = 25\n",
      "5 x 6 = 30\n",
      "5 x 7 = 35\n",
      "5 x 8 = 40\n",
      "5 x 9 = 45\n",
      "5 x 10 = 50\n"
     ]
    }
   ],
   "source": [
    "#answer3.\n",
    "number = 5  \n",
    "for i in range(1, 11):\n",
    "    print(f\"{number} x {i} = {number * i}\")\n"
   ]
  },
  {
   "cell_type": "code",
   "execution_count": 9,
   "id": "bc10a20c-84b0-47db-a64c-03bf78298cb1",
   "metadata": {},
   "outputs": [
    {
     "name": "stdout",
     "output_type": "stream",
     "text": [
      "Even numbers count: 5\n",
      "Odd numbers count: 5\n"
     ]
    }
   ],
   "source": [
    "#answer4.\n",
    "numbers = [1, 2, 3, 4, 5, 6, 7, 8, 9, 10]\n",
    "even_count = 0\n",
    "odd_count = 0\n",
    "\n",
    "for num in numbers:\n",
    "    if num % 2 == 0:\n",
    "        even_count += 1\n",
    "    else:\n",
    "        odd_count += 1\n",
    "\n",
    "print(\"Even numbers count:\", even_count)\n",
    "print(\"Odd numbers count:\", odd_count)\n"
   ]
  },
  {
   "cell_type": "code",
   "execution_count": 43,
   "id": "a51b059e-7d05-4b82-939d-fdb6a36dd829",
   "metadata": {},
   "outputs": [
    {
     "name": "stdin",
     "output_type": "stream",
     "text": [
      "Enter a number to find its factorial:  5\n"
     ]
    },
    {
     "name": "stdout",
     "output_type": "stream",
     "text": [
      "Factorial of 5 = 120\n"
     ]
    }
   ],
   "source": [
    "#answer5.\n",
    "\n",
    "number = int(input(\"Enter a number to find its factorial: \"))\n",
    "\n",
    "factorial = 1\n",
    "\n",
    "\n",
    "for i in range(1, number + 1):\n",
    "    factorial *= i\n",
    "\n",
    "\n",
    "print(f\"Factorial of {number} = {factorial}\")\n"
   ]
  },
  {
   "cell_type": "code",
   "execution_count": 13,
   "id": "9ef41adc-9eb9-4530-8f32-fb7786fa0cb1",
   "metadata": {},
   "outputs": [
    {
     "name": "stdout",
     "output_type": "stream",
     "text": [
      "Fibonacci sequence:\n",
      "0 1 1 2 3 5 8 13 21 34 "
     ]
    }
   ],
   "source": [
    "#answer6.\n",
    "'''Question 6: Write a Python program to print the Fibonacci sequence up to a specified number using a for loop.\n",
    "'''\n",
    "n = 10  \n",
    "a, b = 0, 1\n",
    "\n",
    "print(\"Fibonacci sequence:\")\n",
    "for _ in range(n):\n",
    "    print(a, end=\" \")\n",
    "    a, b = b, a + b\n"
   ]
  },
  {
   "cell_type": "code",
   "execution_count": 23,
   "id": "8a6cc3fc-4b21-4ea3-911b-127f9f91af08",
   "metadata": {},
   "outputs": [
    {
     "name": "stdin",
     "output_type": "stream",
     "text": [
      "Enter a number to check if it is prime:  1\n"
     ]
    },
    {
     "name": "stdout",
     "output_type": "stream",
     "text": [
      "1 is not a prime number\n"
     ]
    }
   ],
   "source": [
    "#answer7.\n",
    "\n",
    "number = int(input(\"Enter a number to check if it is prime: \"))\n",
    "is_prime = True\n",
    "\n",
    "# Prime check logic\n",
    "if number > 1:\n",
    "    for i in range(2, number):\n",
    "        if number % i == 0:\n",
    "            is_prime = False\n",
    "            break\n",
    "else:\n",
    "    is_prime = False\n",
    "\n",
    "\n",
    "if is_prime:\n",
    "    print(f\"{number} is a prime number\")\n",
    "else:\n",
    "    print(f\"{number} is not a prime number\")\n"
   ]
  },
  {
   "cell_type": "code",
   "execution_count": 25,
   "id": "a18e978d-b280-4d79-8f20-1b80d4732a22",
   "metadata": {},
   "outputs": [
    {
     "name": "stdin",
     "output_type": "stream",
     "text": [
      "Enter numbers separated by space:  23 54\n"
     ]
    },
    {
     "name": "stdout",
     "output_type": "stream",
     "text": [
      "Largest number in the list: 54\n"
     ]
    }
   ],
   "source": [
    "#answer8.\n",
    "\n",
    "numbers = list(map(int, input(\"Enter numbers separated by space: \").split()))\n",
    "\n",
    "\n",
    "largest = numbers[0]\n",
    "\n",
    "\n",
    "for num in numbers:\n",
    "    if num > largest:\n",
    "        largest = num\n",
    "\n",
    "print(\"Largest number in the list:\", largest)\n"
   ]
  },
  {
   "cell_type": "code",
   "execution_count": 29,
   "id": "100f3584-6322-4589-8362-d9bece8ee3b4",
   "metadata": {},
   "outputs": [
    {
     "name": "stdin",
     "output_type": "stream",
     "text": [
      "Enter a string to reverse:  this is python \n"
     ]
    },
    {
     "name": "stdout",
     "output_type": "stream",
     "text": [
      "Reversed string:  nohtyp si siht\n"
     ]
    }
   ],
   "source": [
    "#answer9.\n",
    "\n",
    "string = input(\"Enter a string to reverse: \")\n",
    "\n",
    "reversed_string = \"\"\n",
    "\n",
    "\n",
    "for char in string:\n",
    "    reversed_string = char + reversed_string\n",
    "\n",
    "\n",
    "print(\"Reversed string:\", reversed_string)\n"
   ]
  },
  {
   "cell_type": "code",
   "execution_count": 35,
   "id": "27fbbfff-a89d-4f55-b397-743aec9bddc9",
   "metadata": {},
   "outputs": [
    {
     "name": "stdin",
     "output_type": "stream",
     "text": [
      "Enter elements of List 1 separated by space:  1 2 3 \n",
      "Enter elements of List 2 separated by space:  1 2 3 \n"
     ]
    },
    {
     "name": "stdout",
     "output_type": "stream",
     "text": [
      "Common elements: [1, 2, 3]\n"
     ]
    }
   ],
   "source": [
    "#answer10.\n",
    "\n",
    "list1 = list(map(int, input(\"Enter elements of List 1 separated by space: \").split()))\n",
    "list2 = list(map(int, input(\"Enter elements of List 2 separated by space: \").split()))\n",
    "\n",
    "\n",
    "common_elements = []\n",
    "\n",
    "\n",
    "for element in list1:\n",
    "    if element in list2:\n",
    "        common_elements.append(element)\n",
    "\n",
    "if common_elements:\n",
    "    print(\"Common elements:\", common_elements)\n",
    "else:\n",
    "    print(\"No common elements found.\")\n"
   ]
  },
  {
   "cell_type": "code",
   "execution_count": null,
   "id": "1f177787-e6e5-420f-a3f9-a63073d70534",
   "metadata": {},
   "outputs": [],
   "source": []
  }
 ],
 "metadata": {
  "kernelspec": {
   "display_name": "Python 3 (ipykernel)",
   "language": "python",
   "name": "python3"
  },
  "language_info": {
   "codemirror_mode": {
    "name": "ipython",
    "version": 3
   },
   "file_extension": ".py",
   "mimetype": "text/x-python",
   "name": "python",
   "nbconvert_exporter": "python",
   "pygments_lexer": "ipython3",
   "version": "3.12.4"
  }
 },
 "nbformat": 4,
 "nbformat_minor": 5
}
